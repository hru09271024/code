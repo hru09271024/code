{
 "cells": [
  {
   "cell_type": "code",
   "execution_count": null,
   "metadata": {},
   "outputs": [],
   "source": [
    "\n",
    "import twstock as t\n",
    "import pandas as p\n",
    "\n",
    "\n",
    "\n",
    "stock = t.realtime.get('0050')\n",
    "\n",
    " \n",
    "print(stock['success'])\n",
    "\n",
    "result = p.DataFrame(stock).T.iloc[1:3]\n",
    "result.columns = ['股票代碼', '地區', '股票名稱', '公司全名','現在時間', '最新成交價', '成交量', '累計成交量', '最佳5檔賣出價', '最佳5檔賣出量', '最佳5檔買進價', '最佳5檔買進量', '開盤價', '最高價', '最低價']\n",
    "result "
   ]
  }
 ],
 "metadata": {
  "interpreter": {
   "hash": "d480ee8648aa61f8dd354e62238e711469a0da8472e83b0b6dab2c241b89b525"
  },
  "kernelspec": {
   "display_name": "Python 3.10.2 64-bit",
   "language": "python",
   "name": "python3"
  },
  "language_info": {
   "codemirror_mode": {
    "name": "ipython",
    "version": 3
   },
   "file_extension": ".py",
   "mimetype": "text/x-python",
   "name": "python",
   "nbconvert_exporter": "python",
   "pygments_lexer": "ipython3",
   "version": "3.10.2"
  },
  "orig_nbformat": 4
 },
 "nbformat": 4,
 "nbformat_minor": 2
}
