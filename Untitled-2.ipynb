{
 "cells": [
  {
   "cell_type": "code",
   "execution_count": 1,
   "metadata": {},
   "outputs": [
    {
     "name": "stdout",
     "output_type": "stream",
     "text": [
      "[*********************100%***********************]  1 of 1 completed\n"
     ]
    },
    {
     "ename": "ValueError",
     "evalue": "Mime type rendering requires nbformat>=4.2.0 but it is not installed",
     "output_type": "error",
     "traceback": [
      "\u001b[1;31m---------------------------------------------------------------------------\u001b[0m",
      "\u001b[1;31mValueError\u001b[0m                                Traceback (most recent call last)",
      "\u001b[1;32mc:\\ding\\Untitled-2.ipynb Cell 1'\u001b[0m in \u001b[0;36m<module>\u001b[1;34m\u001b[0m\n\u001b[0;32m     <a href='vscode-notebook-cell:/c%3A/ding/Untitled-2.ipynb#ch0000000?line=40'>41</a>\u001b[0m result\u001b[39m.\u001b[39madd_trace(\n\u001b[0;32m     <a href='vscode-notebook-cell:/c%3A/ding/Untitled-2.ipynb#ch0000000?line=41'>42</a>\u001b[0m     g\u001b[39m.\u001b[39mCandlestick(\n\u001b[0;32m     <a href='vscode-notebook-cell:/c%3A/ding/Untitled-2.ipynb#ch0000000?line=42'>43</a>\u001b[0m         name \u001b[39m=\u001b[39m \u001b[39m'\u001b[39m\u001b[39m'\u001b[39m,\n\u001b[1;32m   (...)\u001b[0m\n\u001b[0;32m     <a href='vscode-notebook-cell:/c%3A/ding/Untitled-2.ipynb#ch0000000?line=52'>53</a>\u001b[0m     )\n\u001b[0;32m     <a href='vscode-notebook-cell:/c%3A/ding/Untitled-2.ipynb#ch0000000?line=53'>54</a>\u001b[0m )\n\u001b[0;32m     <a href='vscode-notebook-cell:/c%3A/ding/Untitled-2.ipynb#ch0000000?line=55'>56</a>\u001b[0m result\u001b[39m.\u001b[39mupdate_layout(\n\u001b[0;32m     <a href='vscode-notebook-cell:/c%3A/ding/Untitled-2.ipynb#ch0000000?line=56'>57</a>\u001b[0m     title \u001b[39m=\u001b[39m \u001b[39m'\u001b[39m\u001b[39m2474可成\u001b[39m\u001b[39m'\u001b[39m,\n\u001b[0;32m     <a href='vscode-notebook-cell:/c%3A/ding/Untitled-2.ipynb#ch0000000?line=57'>58</a>\u001b[0m     hovermode \u001b[39m=\u001b[39m \u001b[39m'\u001b[39m\u001b[39mx unified\u001b[39m\u001b[39m'\u001b[39m, \u001b[39m#滑鼠停在圖上的時候會有資訊卡\u001b[39;00m\n\u001b[1;32m   (...)\u001b[0m\n\u001b[0;32m     <a href='vscode-notebook-cell:/c%3A/ding/Untitled-2.ipynb#ch0000000?line=71'>72</a>\u001b[0m     )\n\u001b[0;32m     <a href='vscode-notebook-cell:/c%3A/ding/Untitled-2.ipynb#ch0000000?line=72'>73</a>\u001b[0m )\n\u001b[1;32m---> <a href='vscode-notebook-cell:/c%3A/ding/Untitled-2.ipynb#ch0000000?line=74'>75</a>\u001b[0m result\u001b[39m.\u001b[39;49mshow()\n",
      "File \u001b[1;32m~\\AppData\\Local\\Programs\\Python\\Python310\\lib\\site-packages\\plotly\\basedatatypes.py:3398\u001b[0m, in \u001b[0;36mBaseFigure.show\u001b[1;34m(self, *args, **kwargs)\u001b[0m\n\u001b[0;32m   <a href='file:///~/AppData/Local/Programs/Python/Python310/lib/site-packages/plotly/basedatatypes.py?line=3364'>3365</a>\u001b[0m \u001b[39m\"\"\"\u001b[39;00m\n\u001b[0;32m   <a href='file:///~/AppData/Local/Programs/Python/Python310/lib/site-packages/plotly/basedatatypes.py?line=3365'>3366</a>\u001b[0m \u001b[39mShow a figure using either the default renderer(s) or the renderer(s)\u001b[39;00m\n\u001b[0;32m   <a href='file:///~/AppData/Local/Programs/Python/Python310/lib/site-packages/plotly/basedatatypes.py?line=3366'>3367</a>\u001b[0m \u001b[39mspecified by the renderer argument\u001b[39;00m\n\u001b[1;32m   (...)\u001b[0m\n\u001b[0;32m   <a href='file:///~/AppData/Local/Programs/Python/Python310/lib/site-packages/plotly/basedatatypes.py?line=3393'>3394</a>\u001b[0m \u001b[39mNone\u001b[39;00m\n\u001b[0;32m   <a href='file:///~/AppData/Local/Programs/Python/Python310/lib/site-packages/plotly/basedatatypes.py?line=3394'>3395</a>\u001b[0m \u001b[39m\"\"\"\u001b[39;00m\n\u001b[0;32m   <a href='file:///~/AppData/Local/Programs/Python/Python310/lib/site-packages/plotly/basedatatypes.py?line=3395'>3396</a>\u001b[0m \u001b[39mimport\u001b[39;00m \u001b[39mplotly\u001b[39;00m\u001b[39m.\u001b[39;00m\u001b[39mio\u001b[39;00m \u001b[39mas\u001b[39;00m \u001b[39mpio\u001b[39;00m\n\u001b[1;32m-> <a href='file:///~/AppData/Local/Programs/Python/Python310/lib/site-packages/plotly/basedatatypes.py?line=3397'>3398</a>\u001b[0m \u001b[39mreturn\u001b[39;00m pio\u001b[39m.\u001b[39mshow(\u001b[39mself\u001b[39m, \u001b[39m*\u001b[39margs, \u001b[39m*\u001b[39m\u001b[39m*\u001b[39mkwargs)\n",
      "File \u001b[1;32m~\\AppData\\Local\\Programs\\Python\\Python310\\lib\\site-packages\\plotly\\io\\_renderers.py:397\u001b[0m, in \u001b[0;36mshow\u001b[1;34m(fig, renderer, validate, **kwargs)\u001b[0m\n\u001b[0;32m    <a href='file:///~/AppData/Local/Programs/Python/Python310/lib/site-packages/plotly/io/_renderers.py?line=391'>392</a>\u001b[0m         \u001b[39mraise\u001b[39;00m \u001b[39mValueError\u001b[39;00m(\n\u001b[0;32m    <a href='file:///~/AppData/Local/Programs/Python/Python310/lib/site-packages/plotly/io/_renderers.py?line=392'>393</a>\u001b[0m             \u001b[39m\"\u001b[39m\u001b[39mMime type rendering requires ipython but it is not installed\u001b[39m\u001b[39m\"\u001b[39m\n\u001b[0;32m    <a href='file:///~/AppData/Local/Programs/Python/Python310/lib/site-packages/plotly/io/_renderers.py?line=393'>394</a>\u001b[0m         )\n\u001b[0;32m    <a href='file:///~/AppData/Local/Programs/Python/Python310/lib/site-packages/plotly/io/_renderers.py?line=395'>396</a>\u001b[0m     \u001b[39mif\u001b[39;00m \u001b[39mnot\u001b[39;00m nbformat \u001b[39mor\u001b[39;00m LooseVersion(nbformat\u001b[39m.\u001b[39m__version__) \u001b[39m<\u001b[39m LooseVersion(\u001b[39m\"\u001b[39m\u001b[39m4.2.0\u001b[39m\u001b[39m\"\u001b[39m):\n\u001b[1;32m--> <a href='file:///~/AppData/Local/Programs/Python/Python310/lib/site-packages/plotly/io/_renderers.py?line=396'>397</a>\u001b[0m         \u001b[39mraise\u001b[39;00m \u001b[39mValueError\u001b[39;00m(\n\u001b[0;32m    <a href='file:///~/AppData/Local/Programs/Python/Python310/lib/site-packages/plotly/io/_renderers.py?line=397'>398</a>\u001b[0m             \u001b[39m\"\u001b[39m\u001b[39mMime type rendering requires nbformat>=4.2.0 but it is not installed\u001b[39m\u001b[39m\"\u001b[39m\n\u001b[0;32m    <a href='file:///~/AppData/Local/Programs/Python/Python310/lib/site-packages/plotly/io/_renderers.py?line=398'>399</a>\u001b[0m         )\n\u001b[0;32m    <a href='file:///~/AppData/Local/Programs/Python/Python310/lib/site-packages/plotly/io/_renderers.py?line=400'>401</a>\u001b[0m     ipython_display\u001b[39m.\u001b[39mdisplay(bundle, raw\u001b[39m=\u001b[39m\u001b[39mTrue\u001b[39;00m)\n\u001b[0;32m    <a href='file:///~/AppData/Local/Programs/Python/Python310/lib/site-packages/plotly/io/_renderers.py?line=402'>403</a>\u001b[0m \u001b[39m# external renderers\u001b[39;00m\n",
      "\u001b[1;31mValueError\u001b[0m: Mime type rendering requires nbformat>=4.2.0 but it is not installed"
     ]
    }
   ],
   "source": [
    "#m分鐘: 1m \n",
    "#h小時: 1h\n",
    "#d天: 1d \n",
    "#wk週: 1wk \n",
    "#mo月: 1mo \n",
    "#y年: 1y\n",
    "\n",
    "#period期間\n",
    "#選項: 1d 5d 1mo 3mo 6mo 1y 2y 5y 10y\n",
    "\n",
    "#interval間隔多久\n",
    "#選項: 1m 2m 5m 15m 30m 60m 90m \n",
    " \n",
    "import yfinance as y \n",
    "import pandas as p \n",
    "import plotly.graph_objects as g \n",
    "\n",
    "#上市股: '股票代碼.tw'\n",
    "#上櫃股: '股票代碼.two'\n",
    "stock = y.download('2474.tw', period='1d', interval='1m')\n",
    "\n",
    "data = stock.reset_index()\n",
    "data.columns = ['現在時間', '開盤價', '最高價', '最低價', '收盤價', '調整後收盤價', '成交量']\n",
    "data['現在時間'] = p.to_datetime(data['現在時間'].dt.strftime('%Y-%m-%d %H:%M'))\n",
    "data['成交量'] //= 1000  #把單位從成交股數換成成交張數\n",
    "\n",
    "result = g.Figure()\n",
    "\n",
    "#成交量的圖\n",
    "result.add_trace(\n",
    "    g.Bar(\n",
    "        name = '成交量',\n",
    "        x = data['現在時間'],\n",
    "        y = data['成交量'],\n",
    "        yaxis = 'y2',\n",
    "        marker_color = '#99ccff'\n",
    "    )\n",
    ")\n",
    "\n",
    "#k線圖\n",
    "result.add_trace(\n",
    "    g.Candlestick(\n",
    "        name = '',\n",
    "        x = data['現在時間'],\n",
    "        open = data['開盤價'],\n",
    "        high = data['最高價'],\n",
    "        low = data['最低價'],\n",
    "        close = data['收盤價'],\n",
    "        increasing_line_color = '#fd5047',\n",
    "        increasing_fillcolor = '#f29696',\n",
    "        decreasing_line_color = '#3d9970',\n",
    "        decreasing_fillcolor = '#91c2b3'\n",
    "    )\n",
    ")\n",
    "\n",
    "result.update_layout(\n",
    "    title = '2474可成',\n",
    "    hovermode = 'x unified', #滑鼠停在圖上的時候會有資訊卡\n",
    "    #xaxis_rangeslider_visible = False, #x軸座標的小圖，可以用來滑動上面的圖\n",
    "\n",
    "    yaxis = dict(\n",
    "        title = '股價'\n",
    "    ),\n",
    "\n",
    "    yaxis2 = dict(\n",
    "        overlaying = 'y',\n",
    "        visible = False\n",
    "    ),\n",
    "\n",
    "    font = dict(\n",
    "        size = 20\n",
    "    )\n",
    ")\n",
    "\n",
    "result.show()"
   ]
  }
 ],
 "metadata": {
  "interpreter": {
   "hash": "d480ee8648aa61f8dd354e62238e711469a0da8472e83b0b6dab2c241b89b525"
  },
  "kernelspec": {
   "display_name": "Python 3.10.2 64-bit",
   "language": "python",
   "name": "python3"
  },
  "language_info": {
   "codemirror_mode": {
    "name": "ipython",
    "version": 3
   },
   "file_extension": ".py",
   "mimetype": "text/x-python",
   "name": "python",
   "nbconvert_exporter": "python",
   "pygments_lexer": "ipython3",
   "version": "3.10.2"
  },
  "orig_nbformat": 4
 },
 "nbformat": 4,
 "nbformat_minor": 2
}
